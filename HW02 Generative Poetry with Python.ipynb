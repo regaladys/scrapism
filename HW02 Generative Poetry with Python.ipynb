{
 "cells": [
  {
   "cell_type": "markdown",
   "id": "fadce9a5",
   "metadata": {},
   "source": [
    "# Oblique reading of texts"
   ]
  },
  {
   "cell_type": "markdown",
   "id": "891048ff",
   "metadata": {},
   "source": [
    "I did not have an end in mind for this exercise. But I had these materials on my reading list. They were published a hundred years apart and I wanted to see how much the discourse on \"imperialism\" over these specific points in history.\n",
    "\n",
    "I am reading the material through keyword searches, cutting a single statement from Lenin's work and pasting it with another statement from contemporary studies published by the Institue of Political Economy.\n",
    "\n",
    "The reading is aided computationally. I select what and how to read. The statements are added, subtracted.\n",
    "\n",
    "The methods here are simple manipulations of strings and can be applied to any body of work."
   ]
  },
  {
   "cell_type": "markdown",
   "id": "33f882bc",
   "metadata": {},
   "source": [
    "## Readings\n",
    "\n",
    "1. Imperialism, the Highest Stage of Capitalism https://www.marxists.org/archive/lenin/works/1916/imp-hsc/\n",
    "2. Lenin's Imperialism in the 21st Century https://iboninternational.org/download/lenins-imperialism-in-the-21st-century/\n"
   ]
  },
  {
   "cell_type": "markdown",
   "id": "d6077c7a",
   "metadata": {},
   "source": [
    "## Working with texts\n",
    "\n",
    "1. The readings are downloadable as PDF files. I used [link](https://calibre-ebook.com/) to convert PDF to txt files.\n",
    "2. To search for sentences of particular interest, I used to `grep` and `sed` to extract lines with the keyword \"imperialism\".\n",
    "3. These excerpts are cut and paste, added and subtracted."
   ]
  },
  {
   "cell_type": "markdown",
   "id": "7de0aae3",
   "metadata": {},
   "source": [
    "### 00. Import excerpts as `strings` of sentences"
   ]
  },
  {
   "cell_type": "code",
   "execution_count": 1,
   "id": "d3f44ab3",
   "metadata": {},
   "outputs": [],
   "source": [
    "text1 = open(\"lenin_impe_01_abgd.txt\").read()\n",
    "text2 = open(\"ipe_impe_01_abgd.txt\").read()\n",
    "\n",
    "lines1 = text1.split(\"\\n\")\n",
    "lines2 = text2.split(\"\\n\")"
   ]
  },
  {
   "cell_type": "markdown",
   "id": "827db983",
   "metadata": {},
   "source": [
    "### 01. Draw a sentence from a reference"
   ]
  },
  {
   "cell_type": "code",
   "execution_count": 3,
   "id": "29ab4b43",
   "metadata": {},
   "outputs": [],
   "source": [
    "import random"
   ]
  },
  {
   "cell_type": "code",
   "execution_count": 211,
   "id": "4bcfcae7",
   "metadata": {},
   "outputs": [],
   "source": [
    "def sentence(reference):\n",
    "    a = random.randint(0,len(reference)-1)\n",
    "    processed = reference[a].lower()\n",
    "    return processed"
   ]
  },
  {
   "cell_type": "markdown",
   "id": "0fefc2bb",
   "metadata": {},
   "source": [
    "A random sentence from Lenin. With `split` lines as reference, the output is a single line."
   ]
  },
  {
   "cell_type": "code",
   "execution_count": 212,
   "id": "a04eb086",
   "metadata": {},
   "outputs": [
    {
     "data": {
      "text/plain": [
       "'i trust that this pamphlet will help the reader to understand the fundamental economic question, that of the economic essence of imperialism, for unless this is studied, it will be impossible to understand and appraise modern war and modern politics.'"
      ]
     },
     "execution_count": 212,
     "metadata": {},
     "output_type": "execute_result"
    }
   ],
   "source": [
    "sentence(lines1)"
   ]
  },
  {
   "cell_type": "markdown",
   "id": "e64f36d0",
   "metadata": {},
   "source": [
    "A random sentence from IPE."
   ]
  },
  {
   "cell_type": "code",
   "execution_count": 214,
   "id": "077769e4",
   "metadata": {},
   "outputs": [
    {
     "data": {
      "text/plain": [
       "'10 lenin’s imperialism in the 21st century ghana that broke the consensus, the mia would have sealed an expansion of the wto and neoliberal globalization more broadly.11'"
      ]
     },
     "execution_count": 214,
     "metadata": {},
     "output_type": "execute_result"
    }
   ],
   "source": [
    "sentence(lines2)"
   ]
  },
  {
   "cell_type": "code",
   "execution_count": 215,
   "id": "b769b668",
   "metadata": {},
   "outputs": [
    {
     "name": "stdout",
     "output_type": "stream",
     "text": [
      "Lenin:\n",
      "imperialism is the epoch of finance capital and of monopolies, which introduce everywhere the striving for domination, not for freedom. \n",
      "IPE:\n",
      "lenin, vladimir ilich, imperialism, the highest stage of capitalism, 1916\n"
     ]
    }
   ],
   "source": [
    "lenin = sentence(lines1)\n",
    "ipe = sentence(lines2)\n",
    "print(\"Lenin:\")\n",
    "print(lenin)\n",
    "print(\"IPE:\")\n",
    "print(ipe)"
   ]
  },
  {
   "cell_type": "code",
   "execution_count": 216,
   "id": "9e6ebf22",
   "metadata": {},
   "outputs": [],
   "source": [
    "def sentence_nochar(sen):\n",
    "    sen_nochar = sen.replace(\",\",\"\")\n",
    "    sen_nochar = sen_nochar.replace(\".\",\"\")\n",
    "    sen_nochar = sen_nochar.replace(\":\",\"\")\n",
    "    sen_nochar = sen_nochar.replace(\";\",\"\")\n",
    "    sen_nochar = sen_nochar.replace(\";\",\"\")\n",
    "    return sen_nochar"
   ]
  },
  {
   "cell_type": "markdown",
   "id": "57821da5",
   "metadata": {},
   "source": [
    "### 02. Add sentences"
   ]
  },
  {
   "cell_type": "code",
   "execution_count": 218,
   "id": "3143daab",
   "metadata": {},
   "outputs": [],
   "source": [
    "def sentence_add(sen1,sen2):\n",
    "    words1 = sen1.split(\" \")\n",
    "    words2 = sen2.split(\" \")\n",
    "    senadd = \" \".join(words1 + words2)\n",
    "    return senadd"
   ]
  },
  {
   "cell_type": "code",
   "execution_count": 219,
   "id": "c7597d77",
   "metadata": {},
   "outputs": [
    {
     "name": "stdout",
     "output_type": "stream",
     "text": [
      "210\n",
      "imperialism is the epoch of finance capital and of monopolies, which introduce everywhere the striving for domination, not for freedom.  lenin, vladimir ilich, imperialism, the highest stage of capitalism, 1916\n"
     ]
    }
   ],
   "source": [
    "x = sentence_add(lenin,ipe)\n",
    "print(len(x))\n",
    "print(x)"
   ]
  },
  {
   "cell_type": "markdown",
   "id": "43d5ea47",
   "metadata": {},
   "source": [
    "### 03. Subtract sentences"
   ]
  },
  {
   "cell_type": "code",
   "execution_count": 217,
   "id": "f0bf0231",
   "metadata": {},
   "outputs": [
    {
     "data": {
      "text/plain": [
       "'imperialism is the epoch of finance capital and of monopolies, which introduce everywhere the striving for domination, not for freedom. '"
      ]
     },
     "execution_count": 217,
     "metadata": {},
     "output_type": "execute_result"
    }
   ],
   "source": [
    "lenin"
   ]
  },
  {
   "cell_type": "code",
   "execution_count": 220,
   "id": "1b7e70d8",
   "metadata": {},
   "outputs": [],
   "source": [
    "text1 = \"Imperyalismo ibagsak Marcos, Duterte, walang pinag-iba\"\n",
    "text2 = \"Pyudalismo ibagsak\""
   ]
  },
  {
   "cell_type": "code",
   "execution_count": 221,
   "id": "ca490ca4",
   "metadata": {},
   "outputs": [],
   "source": [
    "def sentence_sub(sen1,sen2):\n",
    "    sen1sp = sen1.split(\" \")\n",
    "    sen2sp = sen2.split(\" \")\n",
    "    index1 = 0\n",
    "    index2 = 0\n",
    "    for a in sen1sp:\n",
    "        for b in sen2sp:\n",
    "            if b == a:\n",
    "                sen1sp[index1] = \"█\"\n",
    "                #print(\"match:\", a, b, index1)\n",
    "            index2 = index2+1\n",
    "        index1 =index1+1\n",
    "    sensub = \" \".join(sen1sp)\n",
    "    return sensub"
   ]
  },
  {
   "cell_type": "code",
   "execution_count": 222,
   "id": "db6b9b95",
   "metadata": {},
   "outputs": [
    {
     "data": {
      "text/plain": [
       "'Imperyalismo █ Marcos, Duterte, walang pinag-iba'"
      ]
     },
     "execution_count": 222,
     "metadata": {},
     "output_type": "execute_result"
    }
   ],
   "source": [
    "sentence_sub(text1,text2)"
   ]
  },
  {
   "cell_type": "code",
   "execution_count": 223,
   "id": "ae199c9b",
   "metadata": {},
   "outputs": [
    {
     "data": {
      "text/plain": [
       "'imperialism is █ epoch █ finance capital and █ monopolies, which introduce everywhere █ striving for domination, not for freedom. '"
      ]
     },
     "execution_count": 223,
     "metadata": {},
     "output_type": "execute_result"
    }
   ],
   "source": [
    "sentence_sub(lenin,ipe)"
   ]
  },
  {
   "cell_type": "markdown",
   "id": "32004b7e",
   "metadata": {},
   "source": [
    "### 04. Union of sentences"
   ]
  },
  {
   "cell_type": "code",
   "execution_count": 224,
   "id": "d0d296e8",
   "metadata": {},
   "outputs": [],
   "source": [
    "def sentence_union(sen1,sen2):\n",
    "    senun = sentence_add(sen1,sen2).split(\" \")\n",
    "    senun = list(dict.fromkeys(senun))\n",
    "    senun = \" \".join(senun)\n",
    "    return senun"
   ]
  },
  {
   "cell_type": "code",
   "execution_count": 225,
   "id": "e5c75219",
   "metadata": {},
   "outputs": [
    {
     "name": "stdout",
     "output_type": "stream",
     "text": [
      "Lenin:\n",
      "imperialism is the epoch of finance capital and of monopolies, which introduce everywhere the striving for domination, not for freedom. \n",
      "IPE:\n",
      "lenin, vladimir ilich, imperialism, the highest stage of capitalism, 1916\n",
      "addition:\n",
      "imperialism is the epoch of finance capital and of monopolies, which introduce everywhere the striving for domination, not for freedom.  lenin, vladimir ilich, imperialism, the highest stage of capitalism, 1916\n",
      "subtraction:\n",
      "imperialism is █ epoch █ finance capital and █ monopolies, which introduce everywhere █ striving for domination, not for freedom. \n",
      "union:\n",
      "imperialism is the epoch of finance capital and monopolies, which introduce everywhere striving for domination, not freedom.  lenin, vladimir ilich, imperialism, highest stage capitalism, 1916\n"
     ]
    }
   ],
   "source": [
    "print(\"Lenin:\")\n",
    "print(lenin)\n",
    "print(\"IPE:\")\n",
    "print(ipe)\n",
    "print(\"addition:\")\n",
    "print((sentence_add(lenin,ipe)))\n",
    "print(\"subtraction:\")\n",
    "print((sentence_sub(lenin,ipe)))\n",
    "print(\"union:\")\n",
    "print((sentence_union(lenin,ipe)))"
   ]
  },
  {
   "cell_type": "code",
   "execution_count": null,
   "id": "b7a083b3",
   "metadata": {},
   "outputs": [],
   "source": []
  }
 ],
 "metadata": {
  "kernelspec": {
   "display_name": "Python 3",
   "language": "python",
   "name": "python3"
  },
  "language_info": {
   "codemirror_mode": {
    "name": "ipython",
    "version": 3
   },
   "file_extension": ".py",
   "mimetype": "text/x-python",
   "name": "python",
   "nbconvert_exporter": "python",
   "pygments_lexer": "ipython3",
   "version": "3.8.8"
  }
 },
 "nbformat": 4,
 "nbformat_minor": 5
}
